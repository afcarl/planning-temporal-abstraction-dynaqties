{
 "cells": [
  {
   "cell_type": "markdown",
   "metadata": {},
   "source": [
    "# Assignment 3: Track 1 Dyna-Q Project Report\n",
    "\n",
    "## Team: DynaQties\n",
    "* Nikhil Kakodkar: 260578689 \n",
    "* Karim Koreitem: 260460964"
   ]
  },
  {
   "cell_type": "code",
   "execution_count": 1,
   "metadata": {
    "collapsed": true
   },
   "outputs": [],
   "source": [
    "% matplotlib inline\n",
    "import dyna_main\n",
    "import matplotlib.pyplot as plt"
   ]
  },
  {
   "cell_type": "markdown",
   "metadata": {},
   "source": [
    "## Setup Parameters"
   ]
  },
  {
   "cell_type": "code",
   "execution_count": 2,
   "metadata": {
    "collapsed": true
   },
   "outputs": [],
   "source": [
    "def init_default_config():\n",
    "    config = {'arch' : 'dyna_q',\n",
    "              'terminal_steps' : 6000,\n",
    "              'switch_maze_at_step' : 3000,\n",
    "              'maze_type' : 'blocking',\n",
    "              'maze_params' : {\n",
    "                  'row' : 6,\n",
    "                  'col' : 9,\n",
    "                  'start_row' : 6,\n",
    "                  'start_col' : 4\n",
    "              },\n",
    "              'policy' : 'epsilon_greedy',\n",
    "              'policy_params' : {\n",
    "                  'epsilon' : 0.1,\n",
    "                  'seed' : 24\n",
    "              },\n",
    "              'learning_alg' : 'q_learning',\n",
    "              'learning_alg_params' : {\n",
    "                  'alpha' : 0.1,\n",
    "                  'gamma' : 0.95,\n",
    "                  'seed' : 42\n",
    "              },\n",
    "              'model' : 'deterministic_no_prior',\n",
    "              'model_params' : {\n",
    "                  'sim_epoch' : 500\n",
    "              },\n",
    "              'planner_params' : {\n",
    "                  'kappa' : 0.01\n",
    "              }\n",
    "             }\n",
    "    return config"
   ]
  },
  {
   "cell_type": "markdown",
   "metadata": {},
   "source": [
    "## Blocking Maze"
   ]
  },
  {
   "cell_type": "markdown",
   "metadata": {},
   "source": [
    "### Dyna-Q"
   ]
  },
  {
   "cell_type": "code",
   "execution_count": 3,
   "metadata": {
    "collapsed": false
   },
   "outputs": [],
   "source": [
    "config = init_default_config()\n",
    "config['arch'] = 'dyna_q'\n",
    "config['maze_type'] = 'blocking'\n",
    "cum_reward_lst, steps = dyna_main.run_experiment(config)"
   ]
  },
  {
   "cell_type": "markdown",
   "metadata": {},
   "source": [
    "### Dyna-Q+"
   ]
  },
  {
   "cell_type": "code",
   "execution_count": 4,
   "metadata": {
    "collapsed": false
   },
   "outputs": [],
   "source": [
    "config = init_default_config()\n",
    "config['arch'] = 'dyna_q_plus'\n",
    "config['maze_type'] = 'blocking'\n",
    "cum_reward_lst_qplus, steps_qplus = dyna_main.run_experiment(config)"
   ]
  },
  {
   "cell_type": "markdown",
   "metadata": {},
   "source": [
    "### Plot: Dyna-Q vs Dyna-Q+ Blocking Maze Cumulative Reward"
   ]
  },
  {
   "cell_type": "code",
   "execution_count": 5,
   "metadata": {
    "collapsed": false
   },
   "outputs": [
    {
     "data": {
      "text/plain": [
       "<matplotlib.legend.Legend at 0x7fcf7098c510>"
      ]
     },
     "execution_count": 5,
     "metadata": {},
     "output_type": "execute_result"
    },
    {
     "data": {
      "image/png": "[encoded data removed]",
      "text/plain": [
       "<matplotlib.figure.Figure at 0x7fcf94fbb450>"
      ]
     },
     "metadata": {},
     "output_type": "display_data"
    }
   ],
   "source": [
    "plt.ylabel('Cumulative Rewards')\n",
    "plt.xlabel('Number of steps')\n",
    "plt.plot(range(0,steps), cum_reward_lst, label='dyna-Q')\n",
    "plt.plot(range(0,steps_qplus), cum_reward_lst_qplus, label='dyna-Q+')\n",
    "plt.axvline(x=config['switch_maze_at_step'], color='grey', linestyle='--')\n",
    "plt.legend()"
   ]
  },
  {
   "cell_type": "markdown",
   "metadata": {},
   "source": [
    "## Shortcut Maze"
   ]
  },
  {
   "cell_type": "markdown",
   "metadata": {},
   "source": [
    "### Dyna-Q"
   ]
  },
  {
   "cell_type": "code",
   "execution_count": 6,
   "metadata": {
    "collapsed": true
   },
   "outputs": [],
   "source": [
    "config = init_default_config()\n",
    "config['arch'] = 'dyna_q'\n",
    "config['maze_type'] = 'shortcut'\n",
    "cum_reward_lst, steps = dyna_main.run_experiment(config)"
   ]
  },
  {
   "cell_type": "markdown",
   "metadata": {},
   "source": [
    "### Dyna-Q+"
   ]
  },
  {
   "cell_type": "code",
   "execution_count": 7,
   "metadata": {
    "collapsed": true
   },
   "outputs": [],
   "source": [
    "config = init_default_config()\n",
    "config['arch'] = 'dyna_q_plus'\n",
    "config['maze_type'] = 'shortcut'\n",
    "cum_reward_lst_qplus, steps_qplus = dyna_main.run_experiment(config)"
   ]
  },
  {
   "cell_type": "markdown",
   "metadata": {},
   "source": [
    "### Plot: Dyna-Q vs Dyna-Q+ Shortcut Maze Cumulative Reward"
   ]
  },
  {
   "cell_type": "code",
   "execution_count": null,
   "metadata": {
    "collapsed": false
   },
   "outputs": [
    {
     "data": {
      "text/plain": [
       "<matplotlib.legend.Legend at 0x7fcf70838e50>"
      ]
     },
     "execution_count": 8,
     "metadata": {},
     "output_type": "execute_result"
    },
    {
     "data": {
      "image/png": "[encoded data removed]",
      "text/plain": [
       "<matplotlib.figure.Figure at 0x7fcf709b0790>"
      ]
     },
     "metadata": {},
     "output_type": "display_data"
    }
   ],
   "source": [
    "plt.ylabel('Cumulative Rewards')\n",
    "plt.xlabel('Number of steps')\n",
    "plt.plot(range(0,steps), cum_reward_lst, label='dyna-Q')\n",
    "plt.plot(range(0,steps_qplus), cum_reward_lst_qplus, label='dyna-Q+')\n",
    "plt.axvline(x=config['switch_maze_at_step'], color='grey', linestyle='--')\n",
    "plt.legend()"
   ]
  },
  {
   "cell_type": "markdown",
   "metadata": {},
   "source": [
    "## Dyna-Q+: Experimenting over different kappa values"
   ]
  },
  {
   "cell_type": "markdown",
   "metadata": {},
   "source": [
    "### Blocking Maze"
   ]
  },
  {
   "cell_type": "code",
   "execution_count": null,
   "metadata": {
    "collapsed": false
   },
   "outputs": [],
   "source": [
    "config = init_default_config()\n",
    "config['arch'] = 'dyna_q_plus'\n",
    "config['maze_type'] = 'blocking'\n",
    "for k in [1.0, 0.0, 0.1, 0.01, 0.001]:    \n",
    "    config['planner_params']['kappa'] = k\n",
    "    cum_reward_lst_qplus, steps_qplus = dyna_main.run_experiment(config)\n",
    "    plt.plot(range(0,steps_qplus), cum_reward_lst_qplus, label='k = ' + str(k))\n",
    "plt.axvline(x=config['switch_maze_at_step'], color='grey', linestyle='--')\n",
    "plt.ylabel('Cumulative Rewards')\n",
    "plt.xlabel('Number of steps')\n",
    "plt.legend()"
   ]
  },
  {
   "cell_type": "markdown",
   "metadata": {},
   "source": [
    "### Shortcut Maze"
   ]
  },
  {
   "cell_type": "code",
   "execution_count": null,
   "metadata": {
    "collapsed": false
   },
   "outputs": [],
   "source": [
    "config = init_default_config()\n",
    "config['arch'] = 'dyna_q_plus'\n",
    "config['maze_type'] = 'shortcut'\n",
    "for k in [1.0, 0.0, 0.1, 0.01, 0.001]:    \n",
    "    config['planner_params']['kappa'] = k\n",
    "    cum_reward_lst_qplus, steps_qplus = dyna_main.run_experiment(config)\n",
    "    plt.plot(range(0,steps_qplus), cum_reward_lst_qplus, label='k = ' + str(k))\n",
    "\n",
    "plt.axvline(x=config['switch_maze_at_step'], color='grey', linestyle='--')\n",
    "plt.ylabel('Cumulative Rewards')\n",
    "plt.xlabel('Number of steps')\n",
    "plt.legend()"
   ]
  },
  {
   "cell_type": "markdown",
   "metadata": {},
   "source": [
    "## Dyna-Q: Experimenting over different sim-epoch (n) values\n"
   ]
  },
  {
   "cell_type": "markdown",
   "metadata": {},
   "source": [
    "### Blocking Maze"
   ]
  },
  {
   "cell_type": "code",
   "execution_count": null,
   "metadata": {
    "collapsed": false
   },
   "outputs": [],
   "source": [
    "config = init_default_config()\n",
    "config['arch'] = 'dyna_q'\n",
    "config['maze_type'] = 'blocking'\n",
    "for n in [1, 2, 5, 20, 50, 500]:    \n",
    "    config['model_params']['sim_epoch'] = n\n",
    "    cum_reward_lst, steps = dyna_main.run_experiment(config)\n",
    "    plt.plot(range(0,steps), cum_reward_lst, label='n = ' + str(n))\n",
    "\n",
    "plt.axvline(x=config['switch_maze_at_step'], color='grey', linestyle='--')\n",
    "plt.ylabel('Cumulative Rewards')\n",
    "plt.xlabel('Number of steps')\n",
    "plt.legend()"
   ]
  },
  {
   "cell_type": "markdown",
   "metadata": {},
   "source": [
    "### Shortcut Maze"
   ]
  },
  {
   "cell_type": "code",
   "execution_count": null,
   "metadata": {
    "collapsed": false
   },
   "outputs": [],
   "source": [
    "config = init_default_config()\n",
    "config['arch'] = 'dyna_q'\n",
    "config['maze_type'] = 'shortcut'\n",
    "for n in [1, 2, 5, 20, 50, 500]:    \n",
    "    config['model_params']['sim_epoch'] = n\n",
    "    cum_reward_lst, steps = dyna_main.run_experiment(config)\n",
    "    plt.plot(range(0,steps), cum_reward_lst, label='n = ' + str(n))\n",
    "\n",
    "plt.axvline(x=config['switch_maze_at_step'], color='grey', linestyle='--')\n",
    "plt.ylabel('Cumulative Rewards')\n",
    "plt.xlabel('Number of steps')\n",
    "plt.legend()"
   ]
  },
  {
   "cell_type": "code",
   "execution_count": null,
   "metadata": {
    "collapsed": true
   },
   "outputs": [],
   "source": []
  }
 ],
 "metadata": {
  "kernelspec": {
   "display_name": "Python 2",
   "language": "python",
   "name": "python2"
  },
  "language_info": {
   "codemirror_mode": {
    "name": "ipython",
    "version": 2
   },
   "file_extension": ".py",
   "mimetype": "text/x-python",
   "name": "python",
   "nbconvert_exporter": "python",
   "pygments_lexer": "ipython2",
   "version": "2.7.13"
  }
 },
 "nbformat": 4,
 "nbformat_minor": 2
}
